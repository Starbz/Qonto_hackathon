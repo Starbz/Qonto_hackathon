{
 "cells": [
  {
   "cell_type": "code",
   "execution_count": 5,
   "metadata": {},
   "outputs": [],
   "source": [
    "import pandas as pd\n",
    "from pandasai.llm.openai import OpenAI\n",
    "from pandasai.pipelines.logic_units.output_logic_unit import ProcessOutput\n",
    "from pandasai.pipelines.synthetic_dataframe.generate_sdf_pipeline import (\n",
    "    GenerateSDFPipeline,\n",
    ")\n",
    "from pandasai.pipelines.pipeline_context import PipelineContext\n",
    "from pandasai.pipelines.synthetic_dataframe.sdf_code_executor import (\n",
    "    SDFCodeExecutor,\n",
    ")\n",
    "from pandasai.pipelines.synthetic_dataframe.synthetic_df_prompt import (\n",
    "    SyntheticDataframePrompt,\n",
    ")\n",
    "from pandasai.pipelines.logic_units.prompt_execution import PromptExecution\n",
    "from pandasai.pipelines.pipeline import Pipeline"
   ]
  },
  {
   "cell_type": "code",
   "execution_count": 6,
   "metadata": {},
   "outputs": [],
   "source": [
    "employees_df = pd.DataFrame(\n",
    "    {\n",
    "        \"EmployeeID\": [1, 2, 3, 4, 5],\n",
    "        \"Name\": [\"John\", \"Emma\", \"Liam\", \"Olivia\", \"William\"],\n",
    "        \"Department\": [\"HR\", \"Sales\", \"IT\", \"Marketing\", \"Finance\"],\n",
    "    }\n",
    ")\n",
    "\n",
    "salaries_df = pd.DataFrame(\n",
    "    {\n",
    "        \"EmployeeID\": [1, 2, 3, 4, 5],\n",
    "        \"Salary\": [5000, 6000, 4500, 7000, 5500],\n",
    "    }\n",
    ")"
   ]
  },
  {
   "cell_type": "code",
   "execution_count": 7,
   "metadata": {},
   "outputs": [],
   "source": [
    "from dotenv import load_dotenv\n",
    "import os\n",
    "\n",
    "OPENAI_API_KEY = os.environ[\"OPENAI_API_KEY\"]"
   ]
  },
  {
   "cell_type": "code",
   "execution_count": 13,
   "metadata": {},
   "outputs": [
    {
     "name": "stdout",
     "output_type": "stream",
     "text": [
      "2023-11-23 12:26:42 [INFO] Executing Step 0: SyntheticDataframePrompt\n",
      "2023-11-23 12:26:42 [ERROR] Pipeline failed on step 0: 'SyntheticDataframePrompt' object has no attribute '_skip_if'\n"
     ]
    },
    {
     "ename": "AttributeError",
     "evalue": "'SyntheticDataframePrompt' object has no attribute '_skip_if'",
     "output_type": "error",
     "traceback": [
      "\u001b[0;31m---------------------------------------------------------------------------\u001b[0m",
      "\u001b[0;31mAttributeError\u001b[0m                            Traceback (most recent call last)",
      "\u001b[1;32m/Users/arthur.cruiziat/dev/Qonto_hackathon/research/test.ipynb Cellule 4\u001b[0m line \u001b[0;36m1\n\u001b[1;32m      <a href='vscode-notebook-cell:/Users/arthur.cruiziat/dev/Qonto_hackathon/research/test.ipynb#W0sZmlsZQ%3D%3D?line=5'>6</a>\u001b[0m context \u001b[39m=\u001b[39m PipelineContext([employees_df], config)\n\u001b[1;32m      <a href='vscode-notebook-cell:/Users/arthur.cruiziat/dev/Qonto_hackathon/research/test.ipynb#W0sZmlsZQ%3D%3D?line=7'>8</a>\u001b[0m pipeline \u001b[39m=\u001b[39m GenerateSDFPipeline(\n\u001b[1;32m      <a href='vscode-notebook-cell:/Users/arthur.cruiziat/dev/Qonto_hackathon/research/test.ipynb#W0sZmlsZQ%3D%3D?line=8'>9</a>\u001b[0m     amount\u001b[39m=\u001b[39m\u001b[39m10\u001b[39m,\n\u001b[1;32m     <a href='vscode-notebook-cell:/Users/arthur.cruiziat/dev/Qonto_hackathon/research/test.ipynb#W0sZmlsZQ%3D%3D?line=9'>10</a>\u001b[0m     context\u001b[39m=\u001b[39mcontext,\n\u001b[1;32m     <a href='vscode-notebook-cell:/Users/arthur.cruiziat/dev/Qonto_hackathon/research/test.ipynb#W0sZmlsZQ%3D%3D?line=10'>11</a>\u001b[0m )\n\u001b[0;32m---> <a href='vscode-notebook-cell:/Users/arthur.cruiziat/dev/Qonto_hackathon/research/test.ipynb#W0sZmlsZQ%3D%3D?line=12'>13</a>\u001b[0m data_frame \u001b[39m=\u001b[39m pipeline\u001b[39m.\u001b[39;49mrun()\n\u001b[1;32m     <a href='vscode-notebook-cell:/Users/arthur.cruiziat/dev/Qonto_hackathon/research/test.ipynb#W0sZmlsZQ%3D%3D?line=14'>15</a>\u001b[0m \u001b[39mprint\u001b[39m(data_frame)\n\u001b[1;32m     <a href='vscode-notebook-cell:/Users/arthur.cruiziat/dev/Qonto_hackathon/research/test.ipynb#W0sZmlsZQ%3D%3D?line=17'>18</a>\u001b[0m \u001b[39m# Without passing Context\u001b[39;00m\n",
      "File \u001b[0;32m~/.pyenv/versions/3.11.0/envs/hackathon/lib/python3.11/site-packages/pandasai/pipelines/synthetic_dataframe/generate_sdf_pipeline.py:36\u001b[0m, in \u001b[0;36mGenerateSDFPipeline.run\u001b[0;34m(self)\u001b[0m\n\u001b[1;32m     35\u001b[0m \u001b[39mdef\u001b[39;00m \u001b[39mrun\u001b[39m(\u001b[39mself\u001b[39m):\n\u001b[0;32m---> 36\u001b[0m     \u001b[39mreturn\u001b[39;00m \u001b[39mself\u001b[39;49m\u001b[39m.\u001b[39;49m_pipeline\u001b[39m.\u001b[39;49mrun()\n",
      "File \u001b[0;32m~/.pyenv/versions/3.11.0/envs/hackathon/lib/python3.11/site-packages/pandasai/pipelines/pipeline.py:94\u001b[0m, in \u001b[0;36mPipeline.run\u001b[0;34m(self, data)\u001b[0m\n\u001b[1;32m     92\u001b[0m \u001b[39mexcept\u001b[39;00m \u001b[39mException\u001b[39;00m \u001b[39mas\u001b[39;00m e:\n\u001b[1;32m     93\u001b[0m     \u001b[39mself\u001b[39m\u001b[39m.\u001b[39m_logger\u001b[39m.\u001b[39mlog(\u001b[39mf\u001b[39m\u001b[39m\"\u001b[39m\u001b[39mPipeline failed on step \u001b[39m\u001b[39m{\u001b[39;00mindex\u001b[39m}\u001b[39;00m\u001b[39m: \u001b[39m\u001b[39m{\u001b[39;00me\u001b[39m}\u001b[39;00m\u001b[39m\"\u001b[39m, logging\u001b[39m.\u001b[39mERROR)\n\u001b[0;32m---> 94\u001b[0m     \u001b[39mraise\u001b[39;00m e\n\u001b[1;32m     96\u001b[0m \u001b[39mreturn\u001b[39;00m data\n",
      "File \u001b[0;32m~/.pyenv/versions/3.11.0/envs/hackathon/lib/python3.11/site-packages/pandasai/pipelines/pipeline.py:82\u001b[0m, in \u001b[0;36mPipeline.run\u001b[0;34m(self, data)\u001b[0m\n\u001b[1;32m     79\u001b[0m \u001b[39mfor\u001b[39;00m index, logic \u001b[39min\u001b[39;00m \u001b[39menumerate\u001b[39m(\u001b[39mself\u001b[39m\u001b[39m.\u001b[39m_steps):\n\u001b[1;32m     80\u001b[0m     \u001b[39mself\u001b[39m\u001b[39m.\u001b[39m_logger\u001b[39m.\u001b[39mlog(\u001b[39mf\u001b[39m\u001b[39m\"\u001b[39m\u001b[39mExecuting Step \u001b[39m\u001b[39m{\u001b[39;00mindex\u001b[39m}\u001b[39;00m\u001b[39m: \u001b[39m\u001b[39m{\u001b[39;00mlogic\u001b[39m.\u001b[39m\u001b[39m__class__\u001b[39m\u001b[39m.\u001b[39m\u001b[39m__name__\u001b[39m\u001b[39m}\u001b[39;00m\u001b[39m\"\u001b[39m)\n\u001b[0;32m---> 82\u001b[0m     \u001b[39mif\u001b[39;00m logic\u001b[39m.\u001b[39;49mskip_if \u001b[39mis\u001b[39;00m \u001b[39mnot\u001b[39;00m \u001b[39mNone\u001b[39;00m \u001b[39mand\u001b[39;00m logic\u001b[39m.\u001b[39mskip_if(\u001b[39mself\u001b[39m\u001b[39m.\u001b[39m_context):\n\u001b[1;32m     83\u001b[0m         \u001b[39mcontinue\u001b[39;00m\n\u001b[1;32m     85\u001b[0m     data \u001b[39m=\u001b[39m logic\u001b[39m.\u001b[39mexecute(\n\u001b[1;32m     86\u001b[0m         data,\n\u001b[1;32m     87\u001b[0m         logger\u001b[39m=\u001b[39m\u001b[39mself\u001b[39m\u001b[39m.\u001b[39m_logger,\n\u001b[1;32m     88\u001b[0m         config\u001b[39m=\u001b[39m\u001b[39mself\u001b[39m\u001b[39m.\u001b[39m_context\u001b[39m.\u001b[39mconfig,\n\u001b[1;32m     89\u001b[0m         context\u001b[39m=\u001b[39m\u001b[39mself\u001b[39m\u001b[39m.\u001b[39m_context,\n\u001b[1;32m     90\u001b[0m     )\n",
      "File \u001b[0;32m~/.pyenv/versions/3.11.0/envs/hackathon/lib/python3.11/site-packages/pandasai/pipelines/base_logic_unit.py:34\u001b[0m, in \u001b[0;36mBaseLogicUnit.skip_if\u001b[0;34m(self)\u001b[0m\n\u001b[1;32m     32\u001b[0m \u001b[39m@property\u001b[39m\n\u001b[1;32m     33\u001b[0m \u001b[39mdef\u001b[39;00m \u001b[39mskip_if\u001b[39m(\u001b[39mself\u001b[39m):\n\u001b[0;32m---> 34\u001b[0m     \u001b[39mreturn\u001b[39;00m \u001b[39mself\u001b[39;49m\u001b[39m.\u001b[39;49m_skip_if\n",
      "\u001b[0;31mAttributeError\u001b[0m: 'SyntheticDataframePrompt' object has no attribute '_skip_if'"
     ]
    }
   ],
   "source": [
    "llm = OpenAI(OPENAI_API_KEY)\n",
    "\n",
    "config = {\"llm\": llm, \"verbose\": True}\n",
    "\n",
    "# Using defined Pipelines\n",
    "context = PipelineContext([employees_df], config)\n",
    "\n",
    "pipeline = GenerateSDFPipeline(\n",
    "    amount=10,\n",
    "    context=context,\n",
    ")\n",
    "\n",
    "data_frame = pipeline.run()\n",
    "\n",
    "print(data_frame)\n",
    "\n",
    "\n",
    "# Without passing Context\n",
    "pipeline = Pipeline(\n",
    "    [salaries_df],\n",
    "    config=config,\n",
    "    steps=[\n",
    "        SyntheticDataframePrompt(amount=15),\n",
    "        PromptExecution(),\n",
    "        SDFCodeExecutor(),\n",
    "        ProcessOutput(),\n",
    "    ],\n",
    ")\n",
    "\n",
    "data_frame = pipeline.run()\n",
    "\n",
    "print(data_frame)"
   ]
  },
  {
   "cell_type": "code",
   "execution_count": null,
   "metadata": {},
   "outputs": [],
   "source": []
  }
 ],
 "metadata": {
  "kernelspec": {
   "display_name": "hackathon",
   "language": "python",
   "name": "python3"
  },
  "language_info": {
   "codemirror_mode": {
    "name": "ipython",
    "version": 3
   },
   "file_extension": ".py",
   "mimetype": "text/x-python",
   "name": "python",
   "nbconvert_exporter": "python",
   "pygments_lexer": "ipython3",
   "version": "3.11.0"
  }
 },
 "nbformat": 4,
 "nbformat_minor": 2
}
